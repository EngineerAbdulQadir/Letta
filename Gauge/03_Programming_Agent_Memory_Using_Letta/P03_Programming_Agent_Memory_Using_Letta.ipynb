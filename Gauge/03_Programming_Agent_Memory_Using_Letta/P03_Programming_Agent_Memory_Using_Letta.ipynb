{
  "nbformat": 4,
  "nbformat_minor": 0,
  "metadata": {
    "colab": {
      "provenance": []
    },
    "kernelspec": {
      "name": "python3",
      "display_name": "Python 3"
    },
    "language_info": {
      "name": "python"
    }
  },
  "cells": [
    {
      "cell_type": "markdown",
      "source": [
        "# Programming Agent Memory Using Letta"
      ],
      "metadata": {
        "id": "rRgVDi6ozHhe"
      }
    },
    {
      "cell_type": "code",
      "execution_count": null,
      "metadata": {
        "id": "guMufYley4St"
      },
      "outputs": [],
      "source": [
        "!rm  -f ~/.letta/sqlite.db"
      ]
    },
    {
      "cell_type": "markdown",
      "source": [
        "### Setup a MemGPT client"
      ],
      "metadata": {
        "id": "6DNAwVQUzWzN"
      }
    },
    {
      "cell_type": "code",
      "source": [
        "from helper import nb_print"
      ],
      "metadata": {
        "id": "V0Wom-XozWdc"
      },
      "execution_count": null,
      "outputs": []
    },
    {
      "cell_type": "code",
      "source": [
        "from letta import create_client\n",
        "\n",
        "client = create_client()"
      ],
      "metadata": {
        "id": "_4v60L_RzaJ4"
      },
      "execution_count": null,
      "outputs": []
    },
    {
      "cell_type": "code",
      "source": [
        "from letta.schemas.llm_config import LLMConfig\n",
        "\n",
        "client.set_default_llm_config(LLMConfig.default_config(\"gpt-4o-mini\"))"
      ],
      "metadata": {
        "id": "xqFkFqdxzbnl"
      },
      "execution_count": null,
      "outputs": []
    },
    {
      "cell_type": "markdown",
      "source": [
        "### ***Memory Blocks***"
      ],
      "metadata": {
        "id": "oEJfQRRFzcPe"
      }
    },
    {
      "cell_type": "markdown",
      "source": [
        "### Understanding ChatMemory"
      ],
      "metadata": {
        "id": "l9eDzX9rzkTv"
      }
    },
    {
      "cell_type": "code",
      "source": [
        "from letta.schemas.memory import ChatMemory"
      ],
      "metadata": {
        "id": "S8UktB3azfZ_"
      },
      "execution_count": null,
      "outputs": []
    },
    {
      "cell_type": "code",
      "source": [
        "chat_memory = ChatMemory(\n",
        "    human=\"Name: Abdul Qadir\",\n",
        "    persona=\"You are a helpful assistant\"\n",
        ")"
      ],
      "metadata": {
        "id": "ZsEU1DSOzoR3"
      },
      "execution_count": null,
      "outputs": []
    },
    {
      "cell_type": "code",
      "source": [
        "chat_memory.list_block_names()"
      ],
      "metadata": {
        "id": "BcHcN-dmzqIX"
      },
      "execution_count": null,
      "outputs": []
    },
    {
      "cell_type": "code",
      "source": [
        "chat_memory.get_block(\"human\")"
      ],
      "metadata": {
        "id": "3OjSR_1fzrQf"
      },
      "execution_count": null,
      "outputs": []
    },
    {
      "cell_type": "code",
      "source": [
        "import inspect"
      ],
      "metadata": {
        "id": "_0Lmcm7ZzsdY"
      },
      "execution_count": null,
      "outputs": []
    },
    {
      "cell_type": "code",
      "source": [
        "print(inspect.getsource(chat_memory.core_memory_append))"
      ],
      "metadata": {
        "id": "QLrzSmfjztnf"
      },
      "execution_count": null,
      "outputs": []
    },
    {
      "cell_type": "markdown",
      "source": [
        "### Context compilation"
      ],
      "metadata": {
        "id": "hpmLNdWLzwau"
      }
    },
    {
      "cell_type": "code",
      "source": [
        "chat_memory.get_prompt_template()"
      ],
      "metadata": {
        "id": "wtuD70tazxBe"
      },
      "execution_count": null,
      "outputs": []
    },
    {
      "cell_type": "code",
      "source": [
        "chat_memory.compile()"
      ],
      "metadata": {
        "id": "u4tB_V1rzyiC"
      },
      "execution_count": null,
      "outputs": []
    },
    {
      "cell_type": "markdown",
      "source": [
        "### ***Defining a custom memory module***"
      ],
      "metadata": {
        "id": "0eQzHvGyz4zg"
      }
    },
    {
      "cell_type": "markdown",
      "source": [
        "### Defining a memory module"
      ],
      "metadata": {
        "id": "Ep5yVzSPz91a"
      }
    },
    {
      "cell_type": "code",
      "source": [
        "from letta.schemas.memory import ChatMemory\n",
        "from letta.schemas.block import Block\n",
        "from typing import Optional, List\n",
        "import json"
      ],
      "metadata": {
        "id": "CCjhV5Luz57Z"
      },
      "execution_count": null,
      "outputs": []
    },
    {
      "cell_type": "code",
      "source": [
        "class TaskMemory(ChatMemory):\n",
        "\n",
        "    def __init__(self, human: str, persona: str, tasks: List[str]):\n",
        "        super().__init__(human=human, persona=persona, limit=2000)\n",
        "        self.link_block(\n",
        "            name=\"tasks\",\n",
        "            block=Block(\n",
        "                limit=2000,\n",
        "                value=json.dumps(tasks),\n",
        "                name=\"tasks\",\n",
        "                label=\"tasks\"\n",
        "            )\n",
        "        )\n",
        "\n",
        "    def task_queue_push(self: \"Agent\", task_description: str):\n",
        "        \"\"\"\n",
        "        Push to a task queue stored in core memory.\n",
        "\n",
        "        Args:\n",
        "            task_description (str): A description of the next task you must accomplish.\n",
        "\n",
        "        Returns:\n",
        "            Optional[str]: None is always returned as this function\n",
        "            does not produce a response.\n",
        "        \"\"\"\n",
        "        import json\n",
        "        tasks = json.loads(self.memory.get_block(\"tasks\").value)\n",
        "        tasks.append(task_description)\n",
        "        self.memory.update_block_value(\"tasks\", json.dumps(tasks))\n",
        "        return None\n",
        "\n",
        "    def task_queue_pop(self: \"Agent\"):\n",
        "        \"\"\"\n",
        "        Get the next task from the task queue\n",
        "\n",
        "        Returns:\n",
        "            Optional[str]: The description of the task popped from the\n",
        "            queue, if there are still tasks in queue. Otherwise, returns\n",
        "            None (the task queue is empty)\n",
        "        \"\"\"\n",
        "        import json\n",
        "        tasks = json.loads(self.memory.get_block(\"tasks\").value)\n",
        "        if len(tasks) == 0:\n",
        "            return None\n",
        "        task = tasks[0]\n",
        "        print(\"CURRENT TASKS: \", tasks)\n",
        "        self.memory.update_block_value(\"tasks\", json.dumps(tasks[1:]))\n",
        "        return task"
      ],
      "metadata": {
        "id": "TtGoFzIm0DD6"
      },
      "execution_count": null,
      "outputs": []
    },
    {
      "cell_type": "markdown",
      "source": [
        "### Creating an agent with custom TaskMemory"
      ],
      "metadata": {
        "id": "ku33rSXC0FRl"
      }
    },
    {
      "cell_type": "code",
      "source": [
        "task_agent_name = \"task_agent\"\n",
        "\n",
        "task_agent_state = client.create_agent(\n",
        "    name=task_agent_name,\n",
        "    system = open(\"task_queue_system_prompt.txt\", \"r\").read(),\n",
        "    memory=TaskMemory(\n",
        "        human=\"My name is Sarah\",\n",
        "        persona=\"You are an agent that must clear its tasks.\",\n",
        "        tasks=[]\n",
        "    )\n",
        ")"
      ],
      "metadata": {
        "id": "mKZ0OuI70GI6"
      },
      "execution_count": null,
      "outputs": []
    },
    {
      "cell_type": "code",
      "source": [
        "message = \"Add 'start calling me Mussayab'\"  \\\n",
        "+ \"and 'tell me a haiku about my name' as two seperate tasks.\""
      ],
      "metadata": {
        "id": "YX8EC9oi0HnG"
      },
      "execution_count": null,
      "outputs": []
    },
    {
      "cell_type": "code",
      "source": [
        "response = client.send_message(\n",
        "    agent_id=task_agent_state.id,\n",
        "    role=\"user\",\n",
        "    message=message\n",
        ")\n",
        "nb_print(response.messages)"
      ],
      "metadata": {
        "id": "9oaxlnJY0MPE"
      },
      "execution_count": null,
      "outputs": []
    },
    {
      "cell_type": "code",
      "source": [
        "response = client.send_message(\n",
        "    agent_id=task_agent_state.id,\n",
        "    role=\"user\",\n",
        "    message=\"complete your tasks\"\n",
        ")\n",
        "nb_print(response.messages)"
      ],
      "metadata": {
        "id": "UcUA5Kvj0N8a"
      },
      "execution_count": null,
      "outputs": []
    },
    {
      "cell_type": "code",
      "source": [
        "client.get_core_memory(task_agent_state.id).get_block(\"tasks\")"
      ],
      "metadata": {
        "id": "fa5BE1-R0Q9j"
      },
      "execution_count": null,
      "outputs": []
    },
    {
      "cell_type": "code",
      "source": [
        "client.get_block('cut_and_paste_id_from_above')"
      ],
      "metadata": {
        "id": "AXG9fk7Y0Tei"
      },
      "execution_count": null,
      "outputs": []
    },
    {
      "cell_type": "markdown",
      "source": [
        "### The End..."
      ],
      "metadata": {
        "id": "QV42wTsp03kJ"
      }
    }
  ]
}