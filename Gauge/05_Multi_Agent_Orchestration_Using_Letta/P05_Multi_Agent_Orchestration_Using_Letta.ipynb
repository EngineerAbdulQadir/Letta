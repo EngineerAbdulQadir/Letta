{
  "nbformat": 4,
  "nbformat_minor": 0,
  "metadata": {
    "colab": {
      "provenance": []
    },
    "kernelspec": {
      "name": "python3",
      "display_name": "Python 3"
    },
    "language_info": {
      "name": "python"
    }
  },
  "cells": [
    {
      "cell_type": "markdown",
      "source": [
        "# Multi Agent Orchestration Using Letta"
      ],
      "metadata": {
        "id": "Uh6b8K-x5YVB"
      }
    },
    {
      "cell_type": "code",
      "execution_count": null,
      "metadata": {
        "id": "JPzW1GBn5S9k"
      },
      "outputs": [],
      "source": [
        "!rm  -f ~/.letta/sqlite.db"
      ]
    },
    {
      "cell_type": "markdown",
      "source": [
        "### Setup a client"
      ],
      "metadata": {
        "id": "ov_2qW-q5dia"
      }
    },
    {
      "cell_type": "code",
      "source": [
        "from helper import nb_print"
      ],
      "metadata": {
        "id": "0mY-bG0J5cJP"
      },
      "execution_count": null,
      "outputs": []
    },
    {
      "cell_type": "code",
      "source": [
        "from letta import create_client\n",
        "\n",
        "client = create_client()"
      ],
      "metadata": {
        "id": "OpoONtXw5j3i"
      },
      "execution_count": null,
      "outputs": []
    },
    {
      "cell_type": "code",
      "source": [
        "from letta.schemas.llm_config import LLMConfig\n",
        "\n",
        "client.set_default_llm_config(LLMConfig.default_config(\"gpt-4o-mini\"))"
      ],
      "metadata": {
        "id": "H2yUFQj55lJa"
      },
      "execution_count": null,
      "outputs": []
    },
    {
      "cell_type": "markdown",
      "source": [
        "### Shared Memory Block"
      ],
      "metadata": {
        "id": "IL6OnsD35mnY"
      }
    },
    {
      "cell_type": "code",
      "source": [
        "from letta.schemas.block import Block\n",
        "\n",
        "org_description= \"The company is called AgentGlo \" \\\n",
        "+ \"and is building AI tools to make it easier to create \" \\\n",
        "+ \"and deploy LLM agents.\"\n",
        "\n",
        "org_block = Block(name=\"company\", value=org_description )"
      ],
      "metadata": {
        "id": "fb7JTrrN5ope"
      },
      "execution_count": null,
      "outputs": []
    },
    {
      "cell_type": "code",
      "source": [
        "from letta.schemas.memory import BasicBlockMemory\n",
        "\n",
        "class OrgMemory(BasicBlockMemory):\n",
        "\n",
        "    def __init__(self, persona: str, org_block: Block):\n",
        "        persona_block = Block(name=\"persona\", value=persona)\n",
        "        super().__init__(blocks=[persona_block, org_block])"
      ],
      "metadata": {
        "id": "5MkrMNal5t5L"
      },
      "execution_count": null,
      "outputs": []
    },
    {
      "cell_type": "markdown",
      "source": [
        "### Cleanup - This code will remove agents if the code is run more than once otherwise it will do nothing."
      ],
      "metadata": {
        "id": "JYfN1N6C6CED"
      }
    },
    {
      "cell_type": "code",
      "source": [
        "for agent in client.list_agents():\n",
        "    client.delete_agent(agent.id)"
      ],
      "metadata": {
        "id": "KIYXvdUG5wSF"
      },
      "execution_count": null,
      "outputs": []
    },
    {
      "cell_type": "markdown",
      "source": [
        "### Cleanup code for repeated runs if needed"
      ],
      "metadata": {
        "id": "eq7Pe2856GC3"
      }
    },
    {
      "cell_type": "code",
      "source": [
        "client.delete_agent(recruiter_agent.id)"
      ],
      "metadata": {
        "id": "36ysKMrR5yzV"
      },
      "execution_count": null,
      "outputs": []
    },
    {
      "cell_type": "markdown",
      "source": [
        "### ***Orchestrating Multiple Agents***"
      ],
      "metadata": {
        "id": "sPi2I55d6J7e"
      }
    },
    {
      "cell_type": "markdown",
      "source": [
        "### Evaluator Agent"
      ],
      "metadata": {
        "id": "7C82771M6N0L"
      }
    },
    {
      "cell_type": "code",
      "source": [
        "def read_resume(self, name: str):\n",
        "    \"\"\"\n",
        "    Read the resume data for a candidate given the name\n",
        "\n",
        "    Args:\n",
        "        name (str): Candidate name\n",
        "\n",
        "    Returns:\n",
        "        resume_data (str): Candidate's resume data\n",
        "    \"\"\"\n",
        "    import os\n",
        "    filepath = os.path.join(\"data\", \"resumes\", name.lower().replace(\" \", \"_\") + \".txt\")\n",
        "    #print(\"read\", filepath)\n",
        "    return open(filepath).read()"
      ],
      "metadata": {
        "id": "wYtt1h-s6HiE"
      },
      "execution_count": null,
      "outputs": []
    },
    {
      "cell_type": "code",
      "source": [
        "def submit_evaluation(\n",
        "    self,\n",
        "    candidate_name: str,\n",
        "    reach_out: bool,\n",
        "    resume: str,\n",
        "    justification: str\n",
        "):\n",
        "    \"\"\"\n",
        "    Submit a candidate for outreach.\n",
        "\n",
        "    Args:\n",
        "        candidate_name (str): The name of the candidate\n",
        "        reach_out (bool): Whether to reach out to the candidate\n",
        "        resume (str): The text representation of the candidate's resume\n",
        "        justification (str): Justification for reaching out or not\n",
        "    \"\"\"\n",
        "    from letta import create_client\n",
        "    client = create_client()\n",
        "\n",
        "    message = \"Reach out to the following candidate. \" \\\n",
        "    + f\"Name: {candidate_name}\\n\" \\\n",
        "    + f\"Resume Data: {resume}\\n\" \\\n",
        "    + f\"Justification: {justification}\"\n",
        "    print(\"eval agent\", candidate_name)\n",
        "    if reach_out:\n",
        "        response = client.send_message(\n",
        "            agent_name=\"outreach_agent\",\n",
        "            role=\"user\",\n",
        "            message=message\n",
        "        )\n",
        "    else:\n",
        "        print(f\"Candidate {candidate_name} is rejected: {justification}\")"
      ],
      "metadata": {
        "id": "ZVjv8bs66P4C"
      },
      "execution_count": null,
      "outputs": []
    },
    {
      "cell_type": "code",
      "source": [
        "read_resume_tool = client.create_tool(read_resume)\n",
        "submit_evaluation_tool = client.create_tool(submit_evaluation)"
      ],
      "metadata": {
        "id": "2weNzt526SV_"
      },
      "execution_count": null,
      "outputs": []
    },
    {
      "cell_type": "code",
      "source": [
        "skills = \"Front-end (React, Typescript), software engineering \" \\\n",
        "+ \"(ideally Python), and experience with LLMs.\"\n",
        "eval_persona = f\"You are responsible to finding good recruiting \" \\\n",
        "+ \"candidates, for the company description. \" \\\n",
        "+ f\"Ideal canddiates have skills: {skills}. \" \\\n",
        "+ \"Submit your candidate evaluation with the submit_evaluation tool. \"\n",
        "\n",
        "\n",
        "eval_agent = client.create_agent(\n",
        "    name=\"eval_agent\",\n",
        "    memory=OrgMemory(\n",
        "        persona=eval_persona,\n",
        "        org_block=org_block,\n",
        "    ),\n",
        "    tools=[read_resume_tool.name, submit_evaluation_tool.name]\n",
        ")"
      ],
      "metadata": {
        "id": "8QHDrexm6UNA"
      },
      "execution_count": null,
      "outputs": []
    },
    {
      "cell_type": "markdown",
      "source": [
        "### Outreach agent"
      ],
      "metadata": {
        "id": "Y7UOLysl6YuF"
      }
    },
    {
      "cell_type": "code",
      "source": [
        "def email_candidate(self, content: str):\n",
        "    \"\"\"\n",
        "    Send an email\n",
        "\n",
        "    Args:\n",
        "        content (str): Content of the email\n",
        "    \"\"\"\n",
        "    print(\"Pretend to email:\", content)\n",
        "    return\n",
        "\n",
        "email_candidate_tool = client.create_tool(email_candidate)"
      ],
      "metadata": {
        "id": "2hXbfHtC6WS-"
      },
      "execution_count": null,
      "outputs": []
    },
    {
      "cell_type": "code",
      "source": [
        "outreach_persona = \"You are responsible for sending outbound emails \" \\\n",
        "+ \"on behalf of a company with the send_emails tool to \" \\\n",
        "+ \"potential candidates. \" \\\n",
        "+ \"If possible, make sure to personalize the email by appealing \" \\\n",
        "+ \"to the recipient with details about the company. \" \\\n",
        "+ \"You position is `Head Recruiter`, and you go by the name Bob, with contact info bob@gmail.com. \" \\\n",
        "+ \"\"\"\n",
        "Follow this email template:\n",
        "\n",
        "Hi <candidate name>,\n",
        "\n",
        "<content>\n",
        "\n",
        "Best,\n",
        "<your name>\n",
        "<company name>\n",
        "\"\"\"\n",
        "\n",
        "outreach_agent = client.create_agent(\n",
        "    name=\"outreach_agent\",\n",
        "    memory=OrgMemory(\n",
        "        persona=outreach_persona,\n",
        "        org_block=org_block\n",
        "    ),\n",
        "    tools=[email_candidate_tool.name]\n",
        ")"
      ],
      "metadata": {
        "id": "kQVwSVsf6bNE"
      },
      "execution_count": null,
      "outputs": []
    },
    {
      "cell_type": "code",
      "source": [
        "response = client.send_message(\n",
        "    agent_name=\"eval_agent\",\n",
        "    role=\"user\",\n",
        "    message=\"Candidate: Tony Stark\"\n",
        ")"
      ],
      "metadata": {
        "id": "nu9uwET76dAj"
      },
      "execution_count": null,
      "outputs": []
    },
    {
      "cell_type": "code",
      "source": [
        "nb_print(response.messages)"
      ],
      "metadata": {
        "id": "XkC1MYsR6ePO"
      },
      "execution_count": null,
      "outputs": []
    },
    {
      "cell_type": "code",
      "source": [
        "feedback = \"Our company pivoted to foundation model training\"\n",
        "response = client.send_message(\n",
        "    agent_name=\"eval_agent\",\n",
        "    role=\"user\",\n",
        "    message=feedback\n",
        ")"
      ],
      "metadata": {
        "id": "vi0t9oSa6fVl"
      },
      "execution_count": null,
      "outputs": []
    },
    {
      "cell_type": "code",
      "source": [
        "feedback = \"The company is also renamed to FoundationAI\"\n",
        "response = client.send_message(\n",
        "    agent_name=\"eval_agent\",\n",
        "    role=\"user\",\n",
        "    message=feedback\n",
        ")"
      ],
      "metadata": {
        "id": "eUSKMFUC6gyk"
      },
      "execution_count": null,
      "outputs": []
    },
    {
      "cell_type": "code",
      "source": [
        "nb_print(response.messages)"
      ],
      "metadata": {
        "id": "vQluLBRs6iV9"
      },
      "execution_count": null,
      "outputs": []
    },
    {
      "cell_type": "code",
      "source": [
        "response = client.send_message(\n",
        "    agent_name=\"eval_agent\",\n",
        "    role=\"system\",\n",
        "    message=\"Candidate: Spongebob Squarepants\"\n",
        ")"
      ],
      "metadata": {
        "id": "ZfD7SQEY6jT7"
      },
      "execution_count": null,
      "outputs": []
    },
    {
      "cell_type": "code",
      "source": [
        "client.get_core_memory(outreach_agent.id).get_block(\"company\")"
      ],
      "metadata": {
        "id": "rrJH6lUJ6lTY"
      },
      "execution_count": null,
      "outputs": []
    },
    {
      "cell_type": "markdown",
      "source": [
        "### ***Adding an orchestrator agent***"
      ],
      "metadata": {
        "id": "xf-gvYN-6oRU"
      }
    },
    {
      "cell_type": "markdown",
      "source": [
        "### Recreate agent"
      ],
      "metadata": {
        "id": "B0dpDaYb6sd5"
      }
    },
    {
      "cell_type": "code",
      "source": [
        "client.delete_agent(eval_agent.id)\n",
        "client.delete_agent(outreach_agent.id)\n",
        "\n",
        "eval_agent = client.create_agent(\n",
        "    name=\"eval_agent\",\n",
        "    memory=OrgMemory(\n",
        "        persona=eval_persona,\n",
        "        org_block=org_block,\n",
        "    ),\n",
        "    tools=[read_resume_tool.name, submit_evaluation_tool.name]\n",
        ")\n",
        "\n",
        "outreach_agent = client.create_agent(\n",
        "    name=\"outreach_agent\",\n",
        "    memory=OrgMemory(\n",
        "        persona=outreach_persona,\n",
        "        org_block=org_block\n",
        "    ),\n",
        "    tools=[email_candidate_tool.name]\n",
        ")"
      ],
      "metadata": {
        "id": "AjskstI_6mdu"
      },
      "execution_count": null,
      "outputs": []
    },
    {
      "cell_type": "code",
      "source": [
        "client.get_block(org_block.id)"
      ],
      "metadata": {
        "id": "uoS7ZWJZ6vMf"
      },
      "execution_count": null,
      "outputs": []
    },
    {
      "cell_type": "code",
      "source": [
        "from typing import Optional\n",
        "\n",
        "def search_candidates_db(self, page: int) -> Optional[str]:\n",
        "    \"\"\"\n",
        "    Returns 1 candidates per page.\n",
        "    Must start at page 0.\n",
        "    Page 0 returns the first 1 candidate,\n",
        "    Page 1 returns the next 1, etc.\n",
        "    Returns `None` if no candidates remain.\n",
        "\n",
        "    Args:\n",
        "        page (int): The page number to return candidates from\n",
        "\n",
        "    Returns:\n",
        "        candidate_names (List[str]): Names of the candidates\n",
        "    \"\"\"\n",
        "\n",
        "    names = [\"Tony Stark\", \"Spongebob Squarepants\", \"Gautam Fang\"]\n",
        "    if page >= len(names):\n",
        "        return None\n",
        "    return names[page]\n",
        "\n",
        "def consider_candidate(self, name: str):\n",
        "    \"\"\"\n",
        "    Submit a candidate for consideration.\n",
        "\n",
        "    Args:\n",
        "        name (str): Candidate name to consider\n",
        "    \"\"\"\n",
        "    from letta import create_client\n",
        "    client = create_client()\n",
        "    message = f\"Consider candidate {name}\"\n",
        "    print(\"Sending message to eval agent: \", message)\n",
        "    response = client.send_message(\n",
        "        agent_name=\"eval_agent\",\n",
        "        role=\"user\",\n",
        "        message=message\n",
        "    )\n"
      ],
      "metadata": {
        "id": "48Jl6Ukz6waG"
      },
      "execution_count": null,
      "outputs": []
    },
    {
      "cell_type": "code",
      "source": [
        "search_candidate_tool = client.create_tool(search_candidates_db)\n",
        "consider_candidate_tool = client.create_tool(consider_candidate)\n",
        "\n",
        "# create recruiter agent\n",
        "recruiter_agent = client.create_agent(\n",
        "    name=\"recruiter_agent\",\n",
        "    memory=OrgMemory(\n",
        "        persona=\"You run a recruiting process for a company. \" \\\n",
        "        + \"Your job is to continue to pull candidates from the \"\n",
        "        + \"`search_candidates_db` tool until there are no more \" \\\n",
        "        + \"candidates left. \" \\\n",
        "        + \"For each candidate, consider the candidate by calling \"\n",
        "        + \"the `consider_candidate` tool. \" \\\n",
        "        + \"You should continue to call `search_candidates_db` \" \\\n",
        "        + \"followed by `consider_candidate` until there are no more \" \\\n",
        "        \" candidates. Start at page 0. \",\n",
        "        org_block=org_block\n",
        "    ),\n",
        "    tools=[search_candidate_tool.name, consider_candidate_tool.name]\n",
        ")\n",
        ""
      ],
      "metadata": {
        "id": "oJlIuzou6yNi"
      },
      "execution_count": null,
      "outputs": []
    },
    {
      "cell_type": "code",
      "source": [
        "response = client.send_message(\n",
        "    agent_id=recruiter_agent.id,\n",
        "    role=\"system\",\n",
        "    message=\"Run generation\"\n",
        ")"
      ],
      "metadata": {
        "id": "fE2HbLC960Nu"
      },
      "execution_count": null,
      "outputs": []
    },
    {
      "cell_type": "code",
      "source": [
        "nb_print(response.messages)"
      ],
      "metadata": {
        "id": "Tk4bFtjk64OQ"
      },
      "execution_count": null,
      "outputs": []
    },
    {
      "cell_type": "markdown",
      "source": [
        "### The End..."
      ],
      "metadata": {
        "id": "IcWWc0Nm65_k"
      }
    }
  ]
}