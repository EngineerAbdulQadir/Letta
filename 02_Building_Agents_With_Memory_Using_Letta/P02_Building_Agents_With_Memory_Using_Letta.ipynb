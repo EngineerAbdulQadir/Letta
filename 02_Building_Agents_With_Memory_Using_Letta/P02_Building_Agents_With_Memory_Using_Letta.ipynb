{
  "nbformat": 4,
  "nbformat_minor": 0,
  "metadata": {
    "colab": {
      "provenance": []
    },
    "kernelspec": {
      "name": "python3",
      "display_name": "Python 3"
    },
    "language_info": {
      "name": "python"
    }
  },
  "cells": [
    {
      "cell_type": "markdown",
      "source": [
        "# Building Agents With Memory Using Letta"
      ],
      "metadata": {
        "id": "EOTKQxHHu4KS"
      }
    },
    {
      "cell_type": "markdown",
      "source": [
        "### Setup a client"
      ],
      "metadata": {
        "id": "skyhovRcvNQE"
      }
    },
    {
      "cell_type": "code",
      "source": [
        "!rm  -f ~/.letta/sqlite.db"
      ],
      "metadata": {
        "id": "AC_7Ms-owOV_"
      },
      "execution_count": null,
      "outputs": []
    },
    {
      "cell_type": "code",
      "source": [
        "from helper import nb_print"
      ],
      "metadata": {
        "id": "S7THig0ywUL2"
      },
      "execution_count": null,
      "outputs": []
    },
    {
      "cell_type": "code",
      "source": [
        "from letta import create_client\n",
        "\n",
        "client = create_client()"
      ],
      "metadata": {
        "id": "m_biKfxBvQiA"
      },
      "execution_count": null,
      "outputs": []
    },
    {
      "cell_type": "code",
      "source": [
        "from letta.schemas.llm_config import LLMConfig\n",
        "\n",
        "client.set_default_llm_config(LLMConfig.default_config(\"gpt-4o-mini\"))"
      ],
      "metadata": {
        "id": "Ep1Y81aOvRVQ"
      },
      "execution_count": null,
      "outputs": []
    },
    {
      "cell_type": "markdown",
      "source": [
        "### Creating a simple agent with memory"
      ],
      "metadata": {
        "id": "1ZiSN9grvVZU"
      }
    },
    {
      "cell_type": "code",
      "source": [
        "agent_name = \"letta_agent\""
      ],
      "metadata": {
        "id": "_3mi1CkAvYF6"
      },
      "execution_count": null,
      "outputs": []
    },
    {
      "cell_type": "code",
      "source": [
        "if client.get_agent_id(agent_name):\n",
        "    client.delete_agent(client.get_agent_id(agent_name))"
      ],
      "metadata": {
        "id": "HRER_g9aveJw"
      },
      "execution_count": null,
      "outputs": []
    },
    {
      "cell_type": "code",
      "source": [
        "from letta.schemas.memory import ChatMemory\n",
        "\n",
        "agent_state = client.create_agent(\n",
        "    name=agent_name,\n",
        "    memory=ChatMemory(\n",
        "        human=\"My name is Abdul Qadir\",\n",
        "        persona=\"You are a helpful assistant that loves emojis\"\n",
        "    )\n",
        ")"
      ],
      "metadata": {
        "id": "FGEsj2_2v6k8"
      },
      "execution_count": null,
      "outputs": []
    },
    {
      "cell_type": "code",
      "source": [
        "response = client.send_message(\n",
        "    agent_id=agent_state.id,\n",
        "    message=\"hello!\",\n",
        "    role=\"user\"\n",
        ")"
      ],
      "metadata": {
        "id": "ld_hQI3Pv-iu"
      },
      "execution_count": null,
      "outputs": []
    },
    {
      "cell_type": "code",
      "source": [
        "response.usage"
      ],
      "metadata": {
        "id": "d3aMbgzqv_-U"
      },
      "execution_count": null,
      "outputs": []
    },
    {
      "cell_type": "code",
      "source": [
        "nb_print(response.messages)"
      ],
      "metadata": {
        "id": "va_OTuD3wF9U"
      },
      "execution_count": null,
      "outputs": []
    },
    {
      "cell_type": "markdown",
      "source": [
        "### Understanding agent state"
      ],
      "metadata": {
        "id": "cyfHL_CNwZty"
      }
    },
    {
      "cell_type": "code",
      "source": [
        "print(agent_state.system)"
      ],
      "metadata": {
        "id": "UwqhDXMgwU9v"
      },
      "execution_count": null,
      "outputs": []
    },
    {
      "cell_type": "code",
      "source": [
        "agent_state.tools"
      ],
      "metadata": {
        "id": "-Jw_Ss6Qwen6"
      },
      "execution_count": null,
      "outputs": []
    },
    {
      "cell_type": "markdown",
      "source": [
        "### Viewing an agent's memory"
      ],
      "metadata": {
        "id": "0uyV_qVMwg8l"
      }
    },
    {
      "cell_type": "code",
      "source": [
        "agent_state.memory"
      ],
      "metadata": {
        "id": "druQc4xJwfA4"
      },
      "execution_count": null,
      "outputs": []
    },
    {
      "cell_type": "code",
      "source": [
        "client.get_archival_memory_summary(agent_state.id)"
      ],
      "metadata": {
        "id": "s1ieYPdNwkNJ"
      },
      "execution_count": null,
      "outputs": []
    },
    {
      "cell_type": "code",
      "source": [
        "client.get_recall_memory_summary(agent_state.id)"
      ],
      "metadata": {
        "id": "rwbL_BHBwmHA"
      },
      "execution_count": null,
      "outputs": []
    },
    {
      "cell_type": "code",
      "source": [
        "client.get_messages(agent_state.id)[0]"
      ],
      "metadata": {
        "id": "63uyUdBQwnl7"
      },
      "execution_count": null,
      "outputs": []
    },
    {
      "cell_type": "markdown",
      "source": [
        "### ***Understanding core memory***"
      ],
      "metadata": {
        "id": "agofkLtrwqL8"
      }
    },
    {
      "cell_type": "markdown",
      "source": [
        "### Memories about the human"
      ],
      "metadata": {
        "id": "G9yAdLZJwyoZ"
      }
    },
    {
      "cell_type": "code",
      "source": [
        "response = client.send_message(\n",
        "    agent_id=agent_state.id,\n",
        "    message = \"My name is actually Mussayab\",\n",
        "    role = \"user\"\n",
        ")\n",
        "nb_print(response.messages)"
      ],
      "metadata": {
        "id": "UHBMKa3Wws2u"
      },
      "execution_count": null,
      "outputs": []
    },
    {
      "cell_type": "markdown",
      "source": [
        "### Memories about the agent"
      ],
      "metadata": {
        "id": "eK7zkzSLw19p"
      }
    },
    {
      "cell_type": "code",
      "source": [
        "response = client.send_message(\n",
        "    agent_id=agent_state.id,\n",
        "    message = \"In the future, never use emojis to communicate\",\n",
        "    role = \"user\"\n",
        ")\n",
        "nb_print(response.messages)"
      ],
      "metadata": {
        "id": "a3sILbg3w0Md"
      },
      "execution_count": null,
      "outputs": []
    },
    {
      "cell_type": "code",
      "source": [
        "client.get_core_memory(agent_state.id).get_block('persona')"
      ],
      "metadata": {
        "id": "jYvk-3XdxAU0"
      },
      "execution_count": null,
      "outputs": []
    },
    {
      "cell_type": "markdown",
      "source": [
        "### Understanding archival memory"
      ],
      "metadata": {
        "id": "KV8k2TVTxCuc"
      }
    },
    {
      "cell_type": "code",
      "source": [
        "client.get_archival_memory(agent_state.id)"
      ],
      "metadata": {
        "id": "0IGFQO1jxBsd"
      },
      "execution_count": null,
      "outputs": []
    },
    {
      "cell_type": "code",
      "source": [
        "response = client.send_message(\n",
        "    agent_id=agent_state.id,\n",
        "    message = \"Save the information that 'Mussayab loves cats' to archival\",\n",
        "    role = \"user\"\n",
        ")\n",
        "nb_print(response.messages)"
      ],
      "metadata": {
        "id": "PLGbBeKsxPLh"
      },
      "execution_count": null,
      "outputs": []
    },
    {
      "cell_type": "code",
      "source": [
        "client.get_archival_memory(agent_state.id)[0].text"
      ],
      "metadata": {
        "id": "XzhiH2_sxRE8"
      },
      "execution_count": null,
      "outputs": []
    },
    {
      "cell_type": "code",
      "source": [
        "passage = client.insert_archival_memory(\n",
        "    agent_state.id,\n",
        "    \"Mussayab loves Boston Terriers\"\n",
        ")"
      ],
      "metadata": {
        "id": "nTroQFrdxS7B"
      },
      "execution_count": null,
      "outputs": []
    },
    {
      "cell_type": "code",
      "source": [
        "passage"
      ],
      "metadata": {
        "id": "jnoi11oHxV1h"
      },
      "execution_count": null,
      "outputs": []
    },
    {
      "cell_type": "code",
      "source": [
        "response = client.send_message(\n",
        "    agent_id=agent_state.id,\n",
        "    role=\"user\",\n",
        "    message=\"What animals do I like? Search archival.\"\n",
        ")\n",
        "nb_print(response.messages)"
      ],
      "metadata": {
        "id": "YJfbQ3MFxX1Y"
      },
      "execution_count": null,
      "outputs": []
    },
    {
      "cell_type": "markdown",
      "source": [
        "### The End..."
      ],
      "metadata": {
        "id": "nvsiVH18xbix"
      }
    }
  ]
}